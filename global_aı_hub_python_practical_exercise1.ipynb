{
  "nbformat": 4,
  "nbformat_minor": 0,
  "metadata": {
    "colab": {
      "provenance": [],
      "toc_visible": true,
      "include_colab_link": true
    },
    "kernelspec": {
      "name": "python3",
      "display_name": "Python 3"
    },
    "language_info": {
      "name": "python"
    }
  },
  "cells": [
    {
      "cell_type": "markdown",
      "metadata": {
        "id": "view-in-github",
        "colab_type": "text"
      },
      "source": [
        "<a href=\"https://colab.research.google.com/github/aydnghn/Assignment-/blob/main/global_a%C4%B1_hub_python_practical_exercise1.ipynb\" target=\"_parent\"><img src=\"https://colab.research.google.com/assets/colab-badge.svg\" alt=\"Open In Colab\"/></a>"
      ]
    },
    {
      "cell_type": "markdown",
      "source": [
        "# Practical exercise 1:  Plan an exciting adventure with a new friend\n",
        "\n",
        "Welcome to your first practical exercise for this course. Here you will get a chance to practice the concepts we've covered in the video lessons from the module and apply your new coding skills to plan an exciting adventure with a new friend you meet online."
      ],
      "metadata": {
        "id": "tBDsFMQwBs6Z"
      }
    },
    {
      "cell_type": "markdown",
      "source": [
        "# Meet Amir\n",
        "\n",
        "Let's say you are browsing the internet, when a pop up message shows on your screen, someone wants to meet you. \n",
        " "
      ],
      "metadata": {
        "id": "cnWVzlo1vBy8"
      }
    },
    {
      "cell_type": "code",
      "source": [
        "#Run this cell to see the message\n",
        "message = \"Hello, my name is Amir! Nice to meet you. What is yours?\"\n",
        "print(message)"
      ],
      "metadata": {
        "id": "JFUdDbEW7GqB",
        "colab": {
          "base_uri": "https://localhost:8080/"
        },
        "outputId": "a249cf4b-1488-4b4b-f8a2-0a4152643236"
      },
      "execution_count": 17,
      "outputs": [
        {
          "output_type": "stream",
          "name": "stdout",
          "text": [
            "Hello, my name is Amir! Nice to meet you. What is yours?\n"
          ]
        }
      ]
    },
    {
      "cell_type": "markdown",
      "source": [
        "Now, how would you answer Amir? \n",
        "\n",
        "Use the cell below to prepare an answer for him with a greeting and your name and print it to the screen. \n",
        "\n",
        "📌 We use the built-in function print() in Python to show results as output."
      ],
      "metadata": {
        "id": "Yr7uQq1J2k6p"
      }
    },
    {
      "cell_type": "code",
      "source": [
        "#Write your answer and print it on the screen\n",
        "\n",
        "answer = \"Hello, Amir! Nice to meet you too. My name is Nagehan.\"\n",
        "print(answer)"
      ],
      "metadata": {
        "id": "8S1F2r8NtEoN",
        "colab": {
          "base_uri": "https://localhost:8080/"
        },
        "outputId": "f72b5d44-f5b9-4844-bcfb-67a88c0edec1"
      },
      "execution_count": 18,
      "outputs": [
        {
          "output_type": "stream",
          "name": "stdout",
          "text": [
            "Hello, Amir! Nice to meet you too. My name is Nagehan.\n"
          ]
        }
      ]
    },
    {
      "cell_type": "markdown",
      "source": [
        "Good job! Right away Amir writes you back with an intriguing question. He says, \"Would you like to plan an exciting adventure with me today?\" Well, why not! But before you start planning, maybe you need to learn a little bit more about each other."
      ],
      "metadata": {
        "id": "Vgv4mhyZEWR6"
      }
    },
    {
      "cell_type": "markdown",
      "source": [
        "#Get to know each other\n",
        "\n",
        "You ask Amir to tell you a little bit about himself, and here's what he tells you."
      ],
      "metadata": {
        "id": "QQIXQsmRwGqB"
      }
    },
    {
      "cell_type": "code",
      "source": [
        "#Run the cell to see his message\n",
        "his_age = 20\n",
        "his_height = 1.76\n",
        "his_hair_color = \"brunette\"\n",
        "his_hometown = \"Iran\"\n",
        "where_he_lives = \"Turkey\"\n",
        "\n",
        "print(\"I am\", str(his_age),\"years old,\",str(his_height),\"tall\",his_hair_color,\"guy from\",his_hometown,\"but I currently live in\",where_he_lives)\n",
        "\n",
        "print(\"What about you? Tell me about yourself.\")"
      ],
      "metadata": {
        "id": "dvTr4HR4wF4n",
        "colab": {
          "base_uri": "https://localhost:8080/"
        },
        "outputId": "4dfaa8fd-1846-44e9-c8b1-a557ceb18fed"
      },
      "execution_count": 19,
      "outputs": [
        {
          "output_type": "stream",
          "name": "stdout",
          "text": [
            "I am 20 years old, 1.76 tall brunette guy from Iran but I currently live in Turkey\n",
            "What about you? Tell me about yourself.\n"
          ]
        }
      ]
    },
    {
      "cell_type": "markdown",
      "source": [
        "Now it is your turn to share, but first some preparation is needed.\n",
        "\n",
        "1. Write in information about yourself using the variables below. \n",
        "2. If there's something you don't want to share, you can use comments. Just put a \"#\" symbol in front of the code line and Python will not execute that line of code.\n",
        "3. Check the datatype of each variable.\n",
        "\n",
        "📌 Remember that there are different data types in Python and in order to use them in a sentence you may have to convert some of them. "
      ],
      "metadata": {
        "id": "L7-zc-wR5982"
      }
    },
    {
      "cell_type": "code",
      "source": [
        "#Please assign your age, height and other details you want to share.\n",
        "my_age = 19\n",
        "my_height = 1.65\n",
        "my_hair_color = \"brown\"\n",
        "my_hometown = \"Turkey\"\n",
        "where_I_live = \"Spain\"\n",
        "\n",
        "#Check the data type of the variables you want to use.\n",
        "print(type(19))\n",
        "print(type(1.65))\n",
        "print(type(\"brown\"))\n",
        "print(type(\"Turkey\"))\n",
        "print(type(\"Spain\"))\n"
      ],
      "metadata": {
        "id": "MDTV-mOZBVOw",
        "colab": {
          "base_uri": "https://localhost:8080/"
        },
        "outputId": "42b60efb-0deb-4ecb-e643-6bf3800a5096"
      },
      "execution_count": 20,
      "outputs": [
        {
          "output_type": "stream",
          "name": "stdout",
          "text": [
            "<class 'int'>\n",
            "<class 'float'>\n",
            "<class 'str'>\n",
            "<class 'str'>\n",
            "<class 'str'>\n"
          ]
        }
      ]
    },
    {
      "cell_type": "markdown",
      "source": [
        "Great, now that you know what you want to share and which variables need to be converted to strings, you're ready to write your sentence. "
      ],
      "metadata": {
        "id": "SDnrjsw7IC7Z"
      }
    },
    {
      "cell_type": "code",
      "source": [
        "#Write a sentence using the print function to describe yourself using the variables above in the correct data type\n",
        "print(\"I am\", str(my_age), \"years old\", str(my_height), \"tall\", my_hair_color, \"girl.\", \"I am from\", my_hometown, \"but I live in\", where_I_live, \".\")"
      ],
      "metadata": {
        "id": "0U8slyfyICeJ",
        "colab": {
          "base_uri": "https://localhost:8080/"
        },
        "outputId": "1c77783b-041d-486a-a840-4e60437c0d59"
      },
      "execution_count": 21,
      "outputs": [
        {
          "output_type": "stream",
          "name": "stdout",
          "text": [
            "I am 19 years old 1.65 tall brown girl. I am from Turkey but I live in Spain .\n"
          ]
        }
      ]
    },
    {
      "cell_type": "markdown",
      "source": [
        "#Where to go and what to eat\n",
        "\n",
        "Now that you know each other a little better, you can start planning your adventure. But where do you start? \n",
        "\n",
        "Let's start with locations and food. Amir asks you to make a list of places in the world that you want to visit and meals that you like to eat.\n",
        " \n",
        "Create a list 'favorite_places_and_foods' that contains at least 5 places and 5 meals.\n"
      ],
      "metadata": {
        "id": "7ICXdJRy9SWZ"
      }
    },
    {
      "cell_type": "code",
      "source": [
        "#Create your list\n",
        "favorite_places_and_foods = [\"Turkey\",\"Manti\", \"France\",\"Tarte tatin\",\"Spain\",\"Paella\",\"Japan\",\"Sushi\",\"Italia\",\"Ravioli\"]\n",
        "\n",
        "print(favorite_places_and_foods)\n",
        "print(\"I hope you like it.\")\n"
      ],
      "metadata": {
        "id": "FHdeAmG6Aw3h",
        "colab": {
          "base_uri": "https://localhost:8080/"
        },
        "outputId": "bb9e4776-8193-426b-ed34-29fd33040002"
      },
      "execution_count": 22,
      "outputs": [
        {
          "output_type": "stream",
          "name": "stdout",
          "text": [
            "['Turkey', 'Manti', 'France', 'Tarte tatin', 'Spain', 'Paella', 'Japan', 'Sushi', 'Italia', 'Ravioli']\n",
            "I hope you like it.\n"
          ]
        }
      ]
    },
    {
      "cell_type": "markdown",
      "source": [
        "It's quite tough to choose from such great options. You need to narrow it down to three items per category. \n",
        "\n",
        "1. First you have to separate or 'slice' the places from the meals. \n",
        "2. Then select the first three items from the places list and the last ones from the foods list.\n",
        "3. Print the remaining options to the screen. \n",
        "\n",
        "📌 Do you remember the list slicing technique? For example, Mylist[1:3] will give the second and third value from Mylist."
      ],
      "metadata": {
        "id": "bHbGRpu2MmYH"
      }
    },
    {
      "cell_type": "code",
      "source": [
        "#Create two separate lists for places and foods using the list slicing technique\n",
        "\n",
        "places = favorite_places_and_foods[0:1], favorite_places_and_foods[2:3], favorite_places_and_foods[4:5],favorite_places_and_foods[6:7],favorite_places_and_foods[8:9]\n",
        "foods = favorite_places_and_foods[1:2],favorite_places_and_foods[3:4],favorite_places_and_foods[5:6],favorite_places_and_foods[7:8],favorite_places_and_foods[9:10]\n",
        "print(\"foods\", \"=\", foods)\n",
        "print(\"places\", \"=\", places)\n",
        "\n",
        "#Select the first and last three from place and food lists\n",
        "first_three_places = places[:3]\n",
        "last_three_foods = foods[2:5]\n",
        "\n",
        "#Print both lists\n",
        "print(\"first_three_places\", \":\", first_three_places)\n",
        "print(\"last_three_foods\", \":\", last_three_foods)"
      ],
      "metadata": {
        "id": "13LMxJu1CD-F",
        "colab": {
          "base_uri": "https://localhost:8080/"
        },
        "outputId": "d0221fbf-978e-42fe-8452-a821a0f88686"
      },
      "execution_count": 23,
      "outputs": [
        {
          "output_type": "stream",
          "name": "stdout",
          "text": [
            "foods = (['Manti'], ['Tarte tatin'], ['Paella'], ['Sushi'], ['Ravioli'])\n",
            "places = (['Turkey'], ['France'], ['Spain'], ['Japan'], ['Italia'])\n",
            "first_three_places : (['Turkey'], ['France'], ['Spain'])\n",
            "last_three_foods : (['Paella'], ['Sushi'], ['Ravioli'])\n"
          ]
        }
      ]
    },
    {
      "cell_type": "markdown",
      "source": [
        "It's quite hard to make a choice from these three. But why not let the computer choose for you? Do you remember the game of dice from our videos? Here is what you need to do.\n",
        "\n",
        "1. Import the random module\n",
        "2. Generate two random numbers between 0-2\n",
        "3. Use each number as the index to choose an item from your favourite-place and food lists\n",
        "4. Print the results to the screen\n"
      ],
      "metadata": {
        "id": "R5LG-XXHBFFM"
      }
    },
    {
      "cell_type": "code",
      "source": [
        "#Please import the random module and generate two random numbers between 0 and 2\n",
        "import random\n",
        "a= random.randint(0,2)\n",
        "b= random.randint(0,2)\n",
        "\n",
        "#Use the generated numbers as indexes of randomely chosen items from place and food lists\n",
        "meeting_place = first_three_places[a]\n",
        "food = last_three_foods [b]\n",
        "\n",
        "print(meeting_place)\n",
        "print(food)"
      ],
      "metadata": {
        "id": "krGw2OUtC9y5",
        "colab": {
          "base_uri": "https://localhost:8080/"
        },
        "outputId": "d3449caa-ad2d-466f-87a5-a977755cc43d"
      },
      "execution_count": 29,
      "outputs": [
        {
          "output_type": "stream",
          "name": "stdout",
          "text": [
            "['Spain']\n",
            "['Sushi']\n"
          ]
        }
      ]
    },
    {
      "cell_type": "markdown",
      "source": [
        "You must have found your location and food. But what else would you like to do on your adventure?"
      ],
      "metadata": {
        "id": "XzBTqk1yPZsM"
      }
    },
    {
      "cell_type": "markdown",
      "source": [
        "#Activities \n",
        "\n",
        "Now, you have your place and meals, but after lunch there are still lots of activities that you can do together...or separately.\n",
        "\n",
        "Let's say there are three pre-defined options: playing chess, playing tennis and visiting a museum. Chess and tennis require both of you to participate, but you can visit the museum separately as well. \n",
        "\n",
        "We need a code to indicate which activities each of you would like to do and which ones will be able to do. A chance to use our logical operators. \n",
        "\n",
        "1. Define activities\n",
        "2. Use the operands 'True' and 'False' to indicate your and Amir's preference for each activity\n",
        "3. Use the logical operators 'and' and 'or' to define which activities you will be able to do\n",
        "\n",
        "📌 Please add in the responces for Amir as well, by the way he doesn't like sports, but loves board games. "
      ],
      "metadata": {
        "id": "9t9q1B-WbW4i"
      }
    },
    {
      "cell_type": "code",
      "source": [
        "first_activity = \"lets play chess in the park\"\n",
        "second_activiy = \"lets play a game of tennis\"\n",
        "third_activity = \"lets go to the museum\"\n",
        "\n",
        "#Write your and Amir's preference for each activity either as \"True\" or \"False\"\n",
        "\n",
        "#First activity\n",
        "first_activity_your = True\n",
        "first_activity_friend = True\n",
        "\n",
        "#Example statement\n",
        "print(\"We are going to play chess in the park! Answer:\" ,first_activity_your and first_activity_friend)\n",
        " \n",
        "#Second activity\n",
        "second_activity_your = True\n",
        "second_activity_friend = False\n",
        " \n",
        "#Your turn to write the statement\n",
        "print(\"At least one of us is going to play a game of tennis! Answer:\", second_activity_your or second_activity_friend)\n",
        "\n",
        "#Third activity\n",
        "third_activity_your= True\n",
        "third_activity_friend= False\n",
        "\n",
        "#Your turn to write the statement \n",
        "print(\"We are going to visit the museum! Answer:\", third_activity_your and third_activity_friend)"
      ],
      "metadata": {
        "id": "sNIV7420Yk-Y",
        "colab": {
          "base_uri": "https://localhost:8080/"
        },
        "outputId": "7a4dcd50-0b9e-4158-e909-888e5af5b899"
      },
      "execution_count": 30,
      "outputs": [
        {
          "output_type": "stream",
          "name": "stdout",
          "text": [
            "We are going to play chess in the park! Answer: True\n",
            "At least one of us is going to play a game of tennis! Answer: True\n",
            "We are going to visit the museum! Answer: False\n"
          ]
        }
      ]
    },
    {
      "cell_type": "markdown",
      "source": [
        "#Get a date\n",
        "\n",
        "Finally you know where to meet, what to eat and what do to. The only last thing to decide is when to meet. How would you ask Amir for the date and time he wants to go on this adventure with you? \n",
        "\n",
        "📌📌Hint: Use the input() function."
      ],
      "metadata": {
        "id": "p_jbzGubELqR"
      }
    },
    {
      "cell_type": "code",
      "source": [
        "#Create a variable for your trip date that asks Amir for an input\n",
        "meeting_date = input(\"What month shall we meet?\")\n",
        "\n",
        "#Print the date for the trip by using it in a sentence\n",
        "print(\"We are going to go\", meeting_place, \"and we will eat\", food, \"in\", meeting_date )"
      ],
      "metadata": {
        "id": "jGxVfccGEMZB",
        "colab": {
          "base_uri": "https://localhost:8080/"
        },
        "outputId": "dd5df063-f9fe-4d9e-97ef-34d7dd02ab3a"
      },
      "execution_count": 33,
      "outputs": [
        {
          "output_type": "stream",
          "name": "stdout",
          "text": [
            "What month shall we meet?October\n",
            "We are going to go ['Spain'] and we will eat ['Sushi'] in October\n"
          ]
        }
      ]
    }
  ]
}